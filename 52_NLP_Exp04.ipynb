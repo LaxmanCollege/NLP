{
  "cells": [
    {
      "cell_type": "code",
      "execution_count": 1,
      "id": "140d00a5-d411-4ccd-81c4-4de7c296f4e7",
      "metadata": {
        "id": "140d00a5-d411-4ccd-81c4-4de7c296f4e7"
      },
      "outputs": [],
      "source": [
        "import nltk\n",
        "from nltk.tokenize import word_tokenize\n",
        "from nltk.corpus import wordnet\n",
        "from nltk.stem import WordNetLemmatizer\n",
        "from nltk.tag import pos_tag"
      ]
    },
    {
      "cell_type": "code",
      "execution_count": 2,
      "id": "ee646e84-4c36-424e-96bf-4f7f2112bbff",
      "metadata": {
        "colab": {
          "base_uri": "https://localhost:8080/"
        },
        "id": "ee646e84-4c36-424e-96bf-4f7f2112bbff",
        "outputId": "61d37155-d181-4569-f73d-980932057b47"
      },
      "outputs": [
        {
          "output_type": "stream",
          "name": "stderr",
          "text": [
            "[nltk_data] Downloading package punkt to /root/nltk_data...\n",
            "[nltk_data]   Unzipping tokenizers/punkt.zip.\n",
            "[nltk_data] Downloading package averaged_perceptron_tagger to\n",
            "[nltk_data]     /root/nltk_data...\n",
            "[nltk_data]   Unzipping taggers/averaged_perceptron_tagger.zip.\n",
            "[nltk_data] Downloading package wordnet to /root/nltk_data...\n"
          ]
        },
        {
          "output_type": "execute_result",
          "data": {
            "text/plain": [
              "True"
            ]
          },
          "metadata": {},
          "execution_count": 2
        }
      ],
      "source": [
        "nltk.download('punkt')\n",
        "nltk.download('averaged_perceptron_tagger')\n",
        "nltk.download('wordnet')"
      ]
    },
    {
      "cell_type": "markdown",
      "id": "939dea40-73cf-482f-a975-a197b8cedbd1",
      "metadata": {
        "id": "939dea40-73cf-482f-a975-a197b8cedbd1"
      },
      "source": [
        "### Function for Morphological Analysis"
      ]
    },
    {
      "cell_type": "code",
      "execution_count": 3,
      "id": "d6281f89-bdc4-4ed8-ac22-ede6499694f4",
      "metadata": {
        "id": "d6281f89-bdc4-4ed8-ac22-ede6499694f4"
      },
      "outputs": [],
      "source": [
        "def morphological_analysis(text):\n",
        "    # Tokenize the text\n",
        "    tokens = word_tokenize(text)\n",
        "\n",
        "    # Part-of-speech tagging\n",
        "    pos_tags = pos_tag(tokens)\n",
        "\n",
        "    # Lemmatization\n",
        "    lemmatizer = WordNetLemmatizer()\n",
        "    lemmas = [(word, lemmatizer.lemmatize(word, pos=get_wordnet_pos(tag))) for word, tag in pos_tags]\n",
        "\n",
        "    return pos_tags, lemmas"
      ]
    },
    {
      "cell_type": "code",
      "source": [
        "# for word, tag in pos_tags:\n",
        "#   wn_tag = get_wordnet_pos(tag)\n",
        "#   lemma = lemmatizer.lemmatize(word, pos=wn_tag)\n",
        "#   lemmas.append((word, lemma))"
      ],
      "metadata": {
        "id": "eh8Jds0oWEPs"
      },
      "id": "eh8Jds0oWEPs",
      "execution_count": 17,
      "outputs": []
    },
    {
      "cell_type": "markdown",
      "id": "88156df9-4040-4bc3-80ba-50e5f6202062",
      "metadata": {
        "id": "88156df9-4040-4bc3-80ba-50e5f6202062"
      },
      "source": [
        "### Function to map NLTK POS tags to WordNet POS tags"
      ]
    },
    {
      "cell_type": "code",
      "execution_count": 4,
      "id": "d8f2d5b1-837f-4f9c-802e-8bc3a4fdceeb",
      "metadata": {
        "id": "d8f2d5b1-837f-4f9c-802e-8bc3a4fdceeb"
      },
      "outputs": [],
      "source": [
        "def get_wordnet_pos(tag):\n",
        "    if tag.startswith('J'):\n",
        "        return wordnet.ADJ\n",
        "    elif tag.startswith('V'):\n",
        "        return wordnet.VERB\n",
        "    elif tag.startswith('N'):\n",
        "        return wordnet.NOUN\n",
        "    elif tag.startswith('R'):\n",
        "        return wordnet.ADV\n",
        "    else:\n",
        "        return wordnet.NOUN"
      ]
    },
    {
      "cell_type": "markdown",
      "id": "646aaa52-521c-476a-bc78-d1af78071ad2",
      "metadata": {
        "id": "646aaa52-521c-476a-bc78-d1af78071ad2"
      },
      "source": [
        "### Function for word generation (synonyms)"
      ]
    },
    {
      "cell_type": "code",
      "execution_count": 5,
      "id": "09686f13-6daa-452a-baa6-a0038bf63dc1",
      "metadata": {
        "id": "09686f13-6daa-452a-baa6-a0038bf63dc1"
      },
      "outputs": [],
      "source": [
        "def generate_words(word):\n",
        "    synonyms = []\n",
        "\n",
        "    for syn in wordnet.synsets(word):\n",
        "        for lemma in syn.lemmas():\n",
        "            synonyms.append(lemma.name())\n",
        "\n",
        "    return set(synonyms)"
      ]
    },
    {
      "cell_type": "markdown",
      "id": "a3cb85a0-0843-44f4-bff2-4c06f3ca074a",
      "metadata": {
        "id": "a3cb85a0-0843-44f4-bff2-4c06f3ca074a"
      },
      "source": [
        "### Example text"
      ]
    },
    {
      "cell_type": "code",
      "execution_count": 6,
      "id": "e691e6d1-09d6-48e1-8c2d-b9ad7a13a8e5",
      "metadata": {
        "id": "e691e6d1-09d6-48e1-8c2d-b9ad7a13a8e5"
      },
      "outputs": [],
      "source": [
        "text = \"The quick brown fox jumps over the lazy dog.\""
      ]
    },
    {
      "cell_type": "markdown",
      "id": "235fe363-a1dd-49e3-be12-81ae6b14168e",
      "metadata": {
        "id": "235fe363-a1dd-49e3-be12-81ae6b14168e"
      },
      "source": [
        "### Perform morphological analysis"
      ]
    },
    {
      "cell_type": "code",
      "execution_count": null,
      "id": "396e677a-ba5b-47b7-95be-b884d1b332d8",
      "metadata": {
        "id": "396e677a-ba5b-47b7-95be-b884d1b332d8"
      },
      "outputs": [],
      "source": [
        "pos_tags, lemmas = morphological_analysis(text)"
      ]
    },
    {
      "cell_type": "markdown",
      "id": "4c4490a0-f09e-4a66-a223-461022958afd",
      "metadata": {
        "id": "4c4490a0-f09e-4a66-a223-461022958afd"
      },
      "source": [
        "### Generate words"
      ]
    },
    {
      "cell_type": "code",
      "execution_count": 8,
      "id": "737962ed-eac1-4eb2-b121-ca531e2c794d",
      "metadata": {
        "id": "737962ed-eac1-4eb2-b121-ca531e2c794d"
      },
      "outputs": [],
      "source": [
        "word = \"quick\"\n",
        "synonyms = generate_words(word)"
      ]
    },
    {
      "cell_type": "code",
      "execution_count": 9,
      "id": "9d1613ab-b577-44a5-b34c-eef9fffbedfd",
      "metadata": {
        "colab": {
          "base_uri": "https://localhost:8080/"
        },
        "id": "9d1613ab-b577-44a5-b34c-eef9fffbedfd",
        "outputId": "e696eec6-8bd9-4afa-ddd8-690f40b55437"
      },
      "outputs": [
        {
          "output_type": "stream",
          "name": "stdout",
          "text": [
            "Part-of-Speech Tags: [('The', 'DT'), ('quick', 'JJ'), ('brown', 'NN'), ('fox', 'NN'), ('jumps', 'VBZ'), ('over', 'IN'), ('the', 'DT'), ('lazy', 'JJ'), ('dog', 'NN'), ('.', '.')]\n",
            "Lemmas: [('The', 'The'), ('quick', 'quick'), ('brown', 'brown'), ('fox', 'fox'), ('jumps', 'jump'), ('over', 'over'), ('the', 'the'), ('lazy', 'lazy'), ('dog', 'dog'), ('.', '.')]\n",
            "Synonyms for 'quick': {'spry', 'flying', 'fast', 'prompt', 'warm', 'quick', 'agile', 'ready', 'promptly', 'speedy', 'quickly', 'straightaway', 'immediate', 'nimble'}\n"
          ]
        }
      ],
      "source": [
        "print(\"Part-of-Speech Tags:\", pos_tags)\n",
        "print(\"Lemmas:\", lemmas)\n",
        "print(f\"Synonyms for '{word}':\", synonyms)"
      ]
    },
    {
      "cell_type": "code",
      "source": [],
      "metadata": {
        "id": "A4RZLCFwMfGu"
      },
      "id": "A4RZLCFwMfGu",
      "execution_count": null,
      "outputs": []
    }
  ],
  "metadata": {
    "kernelspec": {
      "display_name": "Python 3 (ipykernel)",
      "language": "python",
      "name": "python3"
    },
    "language_info": {
      "codemirror_mode": {
        "name": "ipython",
        "version": 3
      },
      "file_extension": ".py",
      "mimetype": "text/x-python",
      "name": "python",
      "nbconvert_exporter": "python",
      "pygments_lexer": "ipython3",
      "version": "3.11.5"
    },
    "colab": {
      "provenance": [],
      "toc_visible": true
    }
  },
  "nbformat": 4,
  "nbformat_minor": 5
}