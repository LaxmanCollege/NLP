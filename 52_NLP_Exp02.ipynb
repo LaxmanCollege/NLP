{
  "cells": [
    {
      "cell_type": "markdown",
      "id": "excessive-adrian",
      "metadata": {
        "id": "excessive-adrian"
      },
      "source": [
        "Experiment 02 ~ NLP DLOC ~ Raunak Joshi ~ Dept. of AI \\& DS ~ VCET"
      ]
    },
    {
      "cell_type": "markdown",
      "id": "regular-fellow",
      "metadata": {
        "id": "regular-fellow"
      },
      "source": [
        "### Library required for Preprocessing"
      ]
    },
    {
      "cell_type": "code",
      "execution_count": null,
      "id": "million-methodology",
      "metadata": {
        "colab": {
          "base_uri": "https://localhost:8080/"
        },
        "id": "million-methodology",
        "outputId": "656aa36a-67b1-4cb1-c04f-89b7f1874f5e"
      },
      "outputs": [
        {
          "output_type": "stream",
          "name": "stdout",
          "text": [
            "Requirement already satisfied: nltk in /usr/local/lib/python3.10/dist-packages (3.8.1)\n",
            "Requirement already satisfied: click in /usr/local/lib/python3.10/dist-packages (from nltk) (8.1.7)\n",
            "Requirement already satisfied: joblib in /usr/local/lib/python3.10/dist-packages (from nltk) (1.4.2)\n",
            "Requirement already satisfied: regex>=2021.8.3 in /usr/local/lib/python3.10/dist-packages (from nltk) (2024.5.15)\n",
            "Requirement already satisfied: tqdm in /usr/local/lib/python3.10/dist-packages (from nltk) (4.66.4)\n"
          ]
        }
      ],
      "source": [
        "!pip install nltk"
      ]
    },
    {
      "cell_type": "code",
      "execution_count": null,
      "id": "alien-breathing",
      "metadata": {
        "id": "alien-breathing"
      },
      "outputs": [],
      "source": [
        "import nltk"
      ]
    },
    {
      "cell_type": "code",
      "source": [
        "nltk.download('punkt')"
      ],
      "metadata": {
        "id": "zYXP5p5qITHj"
      },
      "id": "zYXP5p5qITHj",
      "execution_count": null,
      "outputs": []
    },
    {
      "cell_type": "code",
      "source": [
        "text = '''Bootstrap paradox is a kind of paradox in which information or a person or an object sent back in time creates an infinite loop where the\n",
        " person or the object has no observable origin. In other words, it behaves as if it has no origin. It is also called the Ontological Paradox.'''"
      ],
      "metadata": {
        "id": "UOyMbE_pIisi"
      },
      "id": "UOyMbE_pIisi",
      "execution_count": null,
      "outputs": []
    },
    {
      "cell_type": "code",
      "source": [
        "text"
      ],
      "metadata": {
        "colab": {
          "base_uri": "https://localhost:8080/",
          "height": 53
        },
        "id": "hplaFFoSJH0z",
        "outputId": "291c3a29-65c0-4226-b7a8-ed3dedc6422b"
      },
      "id": "hplaFFoSJH0z",
      "execution_count": null,
      "outputs": [
        {
          "output_type": "execute_result",
          "data": {
            "text/plain": [
              "'Bootstrap paradox is a kind of paradox in which information or a person or an object sent back in time creates an infinite loop where the\\n person or the object has no observable origin. In other words, it behaves as if it has no origin. It is also called the Ontological Paradox.'"
            ],
            "application/vnd.google.colaboratory.intrinsic+json": {
              "type": "string"
            }
          },
          "metadata": {},
          "execution_count": 27
        }
      ]
    },
    {
      "cell_type": "markdown",
      "id": "funded-pontiac",
      "metadata": {
        "id": "funded-pontiac"
      },
      "source": [
        "### Sentence Tokenization"
      ]
    },
    {
      "cell_type": "code",
      "source": [
        "from nltk.tokenize import sent_tokenize"
      ],
      "metadata": {
        "id": "HZmuFJTfFWZR"
      },
      "id": "HZmuFJTfFWZR",
      "execution_count": null,
      "outputs": []
    },
    {
      "cell_type": "code",
      "source": [
        "sentences = sent_tokenize (text)"
      ],
      "metadata": {
        "id": "FZhwf7GFC-ng"
      },
      "id": "FZhwf7GFC-ng",
      "execution_count": null,
      "outputs": []
    },
    {
      "cell_type": "code",
      "source": [
        "sentences"
      ],
      "metadata": {
        "colab": {
          "base_uri": "https://localhost:8080/"
        },
        "id": "Gc3QrH9eDOJo",
        "outputId": "34c75475-778f-40eb-9ed2-6f95c91a1503"
      },
      "id": "Gc3QrH9eDOJo",
      "execution_count": null,
      "outputs": [
        {
          "output_type": "execute_result",
          "data": {
            "text/plain": [
              "['Bootstrap paradox is a kind of paradox in which information or a person or an object sent back in time creates an infinite loop where the\\n person or the object has no observable origin.',\n",
              " 'In other words, it behaves as if it has no origin.',\n",
              " 'It is also called the Ontological Paradox.']"
            ]
          },
          "metadata": {},
          "execution_count": 13
        }
      ]
    },
    {
      "cell_type": "markdown",
      "id": "suitable-franchise",
      "metadata": {
        "id": "suitable-franchise"
      },
      "source": [
        "### Word Tokenization"
      ]
    },
    {
      "cell_type": "code",
      "execution_count": null,
      "id": "alien-basin",
      "metadata": {
        "id": "alien-basin"
      },
      "outputs": [],
      "source": [
        "from nltk.tokenize import word_tokenize"
      ]
    },
    {
      "cell_type": "code",
      "execution_count": null,
      "id": "innovative-hayes",
      "metadata": {
        "id": "innovative-hayes"
      },
      "outputs": [],
      "source": [
        "words = word_tokenize (text)"
      ]
    },
    {
      "cell_type": "code",
      "execution_count": null,
      "id": "sporting-medicare",
      "metadata": {
        "colab": {
          "base_uri": "https://localhost:8080/"
        },
        "id": "sporting-medicare",
        "outputId": "16eb6341-caa8-4dfa-d072-9543d166845e"
      },
      "outputs": [
        {
          "output_type": "execute_result",
          "data": {
            "text/plain": [
              "['Bootstrap',\n",
              " 'paradox',\n",
              " 'is',\n",
              " 'a',\n",
              " 'kind',\n",
              " 'of',\n",
              " 'paradox',\n",
              " 'in',\n",
              " 'which',\n",
              " 'information',\n",
              " 'or',\n",
              " 'a',\n",
              " 'person',\n",
              " 'or',\n",
              " 'an',\n",
              " 'object',\n",
              " 'sent',\n",
              " 'back',\n",
              " 'in',\n",
              " 'time',\n",
              " 'creates',\n",
              " 'an',\n",
              " 'infinite',\n",
              " 'loop',\n",
              " 'where',\n",
              " 'the',\n",
              " 'person',\n",
              " 'or',\n",
              " 'the',\n",
              " 'object',\n",
              " 'has',\n",
              " 'no',\n",
              " 'observable',\n",
              " 'origin',\n",
              " '.',\n",
              " 'In',\n",
              " 'other',\n",
              " 'words',\n",
              " ',',\n",
              " 'it',\n",
              " 'behaves',\n",
              " 'as',\n",
              " 'if',\n",
              " 'it',\n",
              " 'has',\n",
              " 'no',\n",
              " 'origin',\n",
              " '.',\n",
              " 'It',\n",
              " 'is',\n",
              " 'also',\n",
              " 'called',\n",
              " 'the',\n",
              " 'Ontological',\n",
              " 'Paradox',\n",
              " '.']"
            ]
          },
          "metadata": {},
          "execution_count": 16
        }
      ],
      "source": [
        "words"
      ]
    },
    {
      "cell_type": "code",
      "execution_count": null,
      "id": "hybrid-motivation",
      "metadata": {
        "colab": {
          "base_uri": "https://localhost:8080/"
        },
        "id": "hybrid-motivation",
        "outputId": "e9e2fa66-af04-48e4-b3e9-ad82b64c9b58"
      },
      "outputs": [
        {
          "output_type": "stream",
          "name": "stdout",
          "text": [
            "Bootstrap\n",
            "paradox\n",
            "is\n",
            "a\n",
            "kind\n",
            "of\n",
            "paradox\n",
            "in\n",
            "which\n",
            "information\n",
            "or\n",
            "a\n",
            "person\n",
            "or\n",
            "an\n",
            "object\n",
            "sent\n",
            "back\n",
            "in\n",
            "time\n",
            "creates\n",
            "an\n",
            "infinite\n",
            "loop\n",
            "where\n",
            "the\n",
            "person\n",
            "or\n",
            "the\n",
            "object\n",
            "has\n",
            "no\n",
            "observable\n",
            "origin\n",
            ".\n",
            "In\n",
            "other\n",
            "words\n",
            ",\n",
            "it\n",
            "behaves\n",
            "as\n",
            "if\n",
            "it\n",
            "has\n",
            "no\n",
            "origin\n",
            ".\n",
            "It\n",
            "is\n",
            "also\n",
            "called\n",
            "the\n",
            "Ontological\n",
            "Paradox\n",
            ".\n"
          ]
        }
      ],
      "source": [
        "for w in words:\n",
        "    print (w)"
      ]
    },
    {
      "cell_type": "markdown",
      "id": "related-submission",
      "metadata": {
        "id": "related-submission"
      },
      "source": [
        "### Levels of Sentences Tokenization using Comprehension"
      ]
    },
    {
      "cell_type": "code",
      "execution_count": null,
      "id": "german-vintage",
      "metadata": {
        "id": "german-vintage",
        "outputId": "de60fe96-bd44-4a8d-edbe-7d5f69d3c801"
      },
      "outputs": [
        {
          "data": {
            "text/plain": [
              "['Stephenson 2-18 is now known as being one of the largest, if not the current largest star ever discovered, surpassing other stars like VY Canis Majoris and UY Scuti.',\n",
              " 'Stephenson 2-18 has a radius of 2,150 solar radii, being larger than almost the entire orbit of Saturn (1,940 - 2,169 solar radii).']"
            ]
          },
          "execution_count": 23,
          "metadata": {},
          "output_type": "execute_result"
        }
      ],
      "source": [
        "sent_tokenize (text)"
      ]
    },
    {
      "cell_type": "code",
      "execution_count": null,
      "id": "cardiovascular-hazard",
      "metadata": {
        "colab": {
          "base_uri": "https://localhost:8080/"
        },
        "id": "cardiovascular-hazard",
        "outputId": "64fe108a-4daa-4621-9f48-3dc6001db2a5"
      },
      "outputs": [
        {
          "output_type": "execute_result",
          "data": {
            "text/plain": [
              "[['Bootstrap',\n",
              "  'paradox',\n",
              "  'is',\n",
              "  'a',\n",
              "  'kind',\n",
              "  'of',\n",
              "  'paradox',\n",
              "  'in',\n",
              "  'which',\n",
              "  'information',\n",
              "  'or',\n",
              "  'a',\n",
              "  'person',\n",
              "  'or',\n",
              "  'an',\n",
              "  'object',\n",
              "  'sent',\n",
              "  'back',\n",
              "  'in',\n",
              "  'time',\n",
              "  'creates',\n",
              "  'an',\n",
              "  'infinite',\n",
              "  'loop',\n",
              "  'where',\n",
              "  'the',\n",
              "  'person',\n",
              "  'or',\n",
              "  'the',\n",
              "  'object',\n",
              "  'has',\n",
              "  'no',\n",
              "  'observable',\n",
              "  'origin',\n",
              "  '.',\n",
              "  'In',\n",
              "  'other',\n",
              "  'words',\n",
              "  ',',\n",
              "  'it',\n",
              "  'behaves',\n",
              "  'as',\n",
              "  'if',\n",
              "  'it',\n",
              "  'has',\n",
              "  'no',\n",
              "  'origin',\n",
              "  '.',\n",
              "  'It',\n",
              "  'is',\n",
              "  'also',\n",
              "  'called',\n",
              "  'the',\n",
              "  'Ontological',\n",
              "  'Paradox',\n",
              "  '.'],\n",
              " ['Bootstrap',\n",
              "  'paradox',\n",
              "  'is',\n",
              "  'a',\n",
              "  'kind',\n",
              "  'of',\n",
              "  'paradox',\n",
              "  'in',\n",
              "  'which',\n",
              "  'information',\n",
              "  'or',\n",
              "  'a',\n",
              "  'person',\n",
              "  'or',\n",
              "  'an',\n",
              "  'object',\n",
              "  'sent',\n",
              "  'back',\n",
              "  'in',\n",
              "  'time',\n",
              "  'creates',\n",
              "  'an',\n",
              "  'infinite',\n",
              "  'loop',\n",
              "  'where',\n",
              "  'the',\n",
              "  'person',\n",
              "  'or',\n",
              "  'the',\n",
              "  'object',\n",
              "  'has',\n",
              "  'no',\n",
              "  'observable',\n",
              "  'origin',\n",
              "  '.',\n",
              "  'In',\n",
              "  'other',\n",
              "  'words',\n",
              "  ',',\n",
              "  'it',\n",
              "  'behaves',\n",
              "  'as',\n",
              "  'if',\n",
              "  'it',\n",
              "  'has',\n",
              "  'no',\n",
              "  'origin',\n",
              "  '.',\n",
              "  'It',\n",
              "  'is',\n",
              "  'also',\n",
              "  'called',\n",
              "  'the',\n",
              "  'Ontological',\n",
              "  'Paradox',\n",
              "  '.'],\n",
              " ['Bootstrap',\n",
              "  'paradox',\n",
              "  'is',\n",
              "  'a',\n",
              "  'kind',\n",
              "  'of',\n",
              "  'paradox',\n",
              "  'in',\n",
              "  'which',\n",
              "  'information',\n",
              "  'or',\n",
              "  'a',\n",
              "  'person',\n",
              "  'or',\n",
              "  'an',\n",
              "  'object',\n",
              "  'sent',\n",
              "  'back',\n",
              "  'in',\n",
              "  'time',\n",
              "  'creates',\n",
              "  'an',\n",
              "  'infinite',\n",
              "  'loop',\n",
              "  'where',\n",
              "  'the',\n",
              "  'person',\n",
              "  'or',\n",
              "  'the',\n",
              "  'object',\n",
              "  'has',\n",
              "  'no',\n",
              "  'observable',\n",
              "  'origin',\n",
              "  '.',\n",
              "  'In',\n",
              "  'other',\n",
              "  'words',\n",
              "  ',',\n",
              "  'it',\n",
              "  'behaves',\n",
              "  'as',\n",
              "  'if',\n",
              "  'it',\n",
              "  'has',\n",
              "  'no',\n",
              "  'origin',\n",
              "  '.',\n",
              "  'It',\n",
              "  'is',\n",
              "  'also',\n",
              "  'called',\n",
              "  'the',\n",
              "  'Ontological',\n",
              "  'Paradox',\n",
              "  '.']]"
            ]
          },
          "metadata": {},
          "execution_count": 18
        }
      ],
      "source": [
        "[word_tokenize (text) for t in sent_tokenize(text)]"
      ]
    },
    {
      "cell_type": "code",
      "execution_count": null,
      "id": "saving-trade",
      "metadata": {
        "id": "saving-trade"
      },
      "outputs": [],
      "source": [
        "from nltk.tokenize import wordpunct_tokenize"
      ]
    },
    {
      "cell_type": "code",
      "execution_count": null,
      "id": "decimal-presence",
      "metadata": {
        "colab": {
          "base_uri": "https://localhost:8080/"
        },
        "id": "decimal-presence",
        "outputId": "72fc28dd-653d-4148-dfd8-bfb23ab07c77"
      },
      "outputs": [
        {
          "output_type": "execute_result",
          "data": {
            "text/plain": [
              "['Bootstrap',\n",
              " 'paradox',\n",
              " 'is',\n",
              " 'a',\n",
              " 'kind',\n",
              " 'of',\n",
              " 'paradox',\n",
              " 'in',\n",
              " 'which',\n",
              " 'information',\n",
              " 'or',\n",
              " 'a',\n",
              " 'person',\n",
              " 'or',\n",
              " 'an',\n",
              " 'object',\n",
              " 'sent',\n",
              " 'back',\n",
              " 'in',\n",
              " 'time',\n",
              " 'creates',\n",
              " 'an',\n",
              " 'infinite',\n",
              " 'loop',\n",
              " 'where',\n",
              " 'the',\n",
              " 'person',\n",
              " 'or',\n",
              " 'the',\n",
              " 'object',\n",
              " 'has',\n",
              " 'no',\n",
              " 'observable',\n",
              " 'origin',\n",
              " '.',\n",
              " 'In',\n",
              " 'other',\n",
              " 'words',\n",
              " ',',\n",
              " 'it',\n",
              " 'behaves',\n",
              " 'as',\n",
              " 'if',\n",
              " 'it',\n",
              " 'has',\n",
              " 'no',\n",
              " 'origin',\n",
              " '.',\n",
              " 'It',\n",
              " 'is',\n",
              " 'also',\n",
              " 'called',\n",
              " 'the',\n",
              " 'Ontological',\n",
              " 'Paradox',\n",
              " '.']"
            ]
          },
          "metadata": {},
          "execution_count": 20
        }
      ],
      "source": [
        "wordpunct_tokenize (text)"
      ]
    },
    {
      "cell_type": "markdown",
      "id": "equal-kitty",
      "metadata": {
        "id": "equal-kitty"
      },
      "source": [
        "### Filteration of Text by converting into lower case"
      ]
    },
    {
      "cell_type": "code",
      "execution_count": null,
      "id": "alpha-cannon",
      "metadata": {
        "colab": {
          "base_uri": "https://localhost:8080/",
          "height": 53
        },
        "id": "alpha-cannon",
        "outputId": "a34e60db-8a83-4657-e629-ff1f0db2f997"
      },
      "outputs": [
        {
          "output_type": "execute_result",
          "data": {
            "text/plain": [
              "'bootstrap paradox is a kind of paradox in which information or a person or an object sent back in time creates an infinite loop where the\\n person or the object has no observable origin. in other words, it behaves as if it has no origin. it is also called the ontological paradox.'"
            ],
            "application/vnd.google.colaboratory.intrinsic+json": {
              "type": "string"
            }
          },
          "metadata": {},
          "execution_count": 21
        }
      ],
      "source": [
        "text.lower()"
      ]
    },
    {
      "cell_type": "code",
      "execution_count": null,
      "id": "bulgarian-performer",
      "metadata": {
        "colab": {
          "base_uri": "https://localhost:8080/",
          "height": 53
        },
        "id": "bulgarian-performer",
        "outputId": "9b995bdf-29d7-4156-f335-d1393fd81323"
      },
      "outputs": [
        {
          "output_type": "execute_result",
          "data": {
            "text/plain": [
              "'BOOTSTRAP PARADOX IS A KIND OF PARADOX IN WHICH INFORMATION OR A PERSON OR AN OBJECT SENT BACK IN TIME CREATES AN INFINITE LOOP WHERE THE\\n PERSON OR THE OBJECT HAS NO OBSERVABLE ORIGIN. IN OTHER WORDS, IT BEHAVES AS IF IT HAS NO ORIGIN. IT IS ALSO CALLED THE ONTOLOGICAL PARADOX.'"
            ],
            "application/vnd.google.colaboratory.intrinsic+json": {
              "type": "string"
            }
          },
          "metadata": {},
          "execution_count": 22
        }
      ],
      "source": [
        "text.upper()"
      ]
    },
    {
      "cell_type": "code",
      "source": [],
      "metadata": {
        "id": "ARYOeTyRD3_h"
      },
      "id": "ARYOeTyRD3_h",
      "execution_count": null,
      "outputs": []
    }
  ],
  "metadata": {
    "kernelspec": {
      "display_name": "Python 3",
      "language": "python",
      "name": "python3"
    },
    "language_info": {
      "codemirror_mode": {
        "name": "ipython",
        "version": 3
      },
      "file_extension": ".py",
      "mimetype": "text/x-python",
      "name": "python",
      "nbconvert_exporter": "python",
      "pygments_lexer": "ipython3",
      "version": "3.7.0"
    },
    "colab": {
      "provenance": [],
      "collapsed_sections": [
        "regular-fellow",
        "funded-pontiac",
        "suitable-franchise",
        "related-submission",
        "equal-kitty"
      ],
      "toc_visible": true
    }
  },
  "nbformat": 4,
  "nbformat_minor": 5
}