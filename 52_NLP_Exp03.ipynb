{
  "cells": [
    {
      "cell_type": "markdown",
      "id": "serial-proceeding",
      "metadata": {
        "id": "serial-proceeding"
      },
      "source": [
        "Experiment 03 ~ NLP DLOC ~ Raunak Joshi ~ Dept. of AI & DS ~ VCET"
      ]
    },
    {
      "cell_type": "markdown",
      "id": "exposed-trinity",
      "metadata": {
        "id": "exposed-trinity"
      },
      "source": [
        "### Library required"
      ]
    },
    {
      "cell_type": "code",
      "execution_count": 1,
      "id": "explicit-leather",
      "metadata": {
        "colab": {
          "base_uri": "https://localhost:8080/"
        },
        "id": "explicit-leather",
        "outputId": "38c0655c-bd4b-47fc-caae-6e82eb3c023e"
      },
      "outputs": [
        {
          "output_type": "stream",
          "name": "stdout",
          "text": [
            "Requirement already satisfied: nltk in /usr/local/lib/python3.10/dist-packages (3.8.1)\n",
            "Requirement already satisfied: click in /usr/local/lib/python3.10/dist-packages (from nltk) (8.1.7)\n",
            "Requirement already satisfied: joblib in /usr/local/lib/python3.10/dist-packages (from nltk) (1.4.2)\n",
            "Requirement already satisfied: regex>=2021.8.3 in /usr/local/lib/python3.10/dist-packages (from nltk) (2024.5.15)\n",
            "Requirement already satisfied: tqdm in /usr/local/lib/python3.10/dist-packages (from nltk) (4.66.4)\n"
          ]
        }
      ],
      "source": [
        "!pip install nltk"
      ]
    },
    {
      "cell_type": "markdown",
      "id": "parliamentary-transcript",
      "metadata": {
        "id": "parliamentary-transcript"
      },
      "source": [
        "### Text"
      ]
    },
    {
      "cell_type": "code",
      "execution_count": 34,
      "id": "centered-aurora",
      "metadata": {
        "id": "centered-aurora"
      },
      "outputs": [],
      "source": [
        "text = \"Predestination is a 2014 science fiction film that follows a time-traveling agent, played by Ethan Hawke, who is on a mission to capture a mysterious terrorist known as the Fizzle Bomber. During his quest, he recruits a young woman (Sarah Snook) who has a hidden connection to the case. As the agent's mission unfolds, the story reveals complex layers of identity and fate, culminating in a series of surprising twists that intertwine their lives in a closed time loop. The film delves into themes of predestination, self-discovery, and the paradoxes inherent in time travel, offering a thought-provoking narrative about the nature of destiny and personal choice.\""
      ]
    },
    {
      "cell_type": "code",
      "execution_count": 35,
      "id": "configured-brass",
      "metadata": {
        "colab": {
          "base_uri": "https://localhost:8080/",
          "height": 105
        },
        "id": "configured-brass",
        "outputId": "3093a291-5882-494d-aba9-532158c54d22"
      },
      "outputs": [
        {
          "output_type": "execute_result",
          "data": {
            "text/plain": [
              "\"Predestination is a 2014 science fiction film that follows a time-traveling agent, played by Ethan Hawke, who is on a mission to capture a mysterious terrorist known as the Fizzle Bomber. During his quest, he recruits a young woman (Sarah Snook) who has a hidden connection to the case. As the agent's mission unfolds, the story reveals complex layers of identity and fate, culminating in a series of surprising twists that intertwine their lives in a closed time loop. The film delves into themes of predestination, self-discovery, and the paradoxes inherent in time travel, offering a thought-provoking narrative about the nature of destiny and personal choice.\""
            ],
            "application/vnd.google.colaboratory.intrinsic+json": {
              "type": "string"
            }
          },
          "metadata": {},
          "execution_count": 35
        }
      ],
      "source": [
        "text"
      ]
    },
    {
      "cell_type": "markdown",
      "id": "tamil-technical",
      "metadata": {
        "id": "tamil-technical"
      },
      "source": [
        "### Stopwords"
      ]
    },
    {
      "cell_type": "code",
      "source": [
        "import nltk"
      ],
      "metadata": {
        "id": "XaIW_OSRFkoD"
      },
      "id": "XaIW_OSRFkoD",
      "execution_count": 13,
      "outputs": []
    },
    {
      "cell_type": "code",
      "execution_count": 17,
      "id": "damaged-digit",
      "metadata": {
        "id": "damaged-digit"
      },
      "outputs": [],
      "source": [
        "from nltk.corpus import stopwords"
      ]
    },
    {
      "cell_type": "code",
      "source": [
        "nltk.download('stopwords')"
      ],
      "metadata": {
        "colab": {
          "base_uri": "https://localhost:8080/"
        },
        "id": "MX4pcyRLFUZt",
        "outputId": "59ebb2e5-801b-4539-9b81-fccf3bd8081d"
      },
      "id": "MX4pcyRLFUZt",
      "execution_count": 18,
      "outputs": [
        {
          "output_type": "stream",
          "name": "stderr",
          "text": [
            "[nltk_data] Downloading package stopwords to /root/nltk_data...\n",
            "[nltk_data]   Package stopwords is already up-to-date!\n"
          ]
        },
        {
          "output_type": "execute_result",
          "data": {
            "text/plain": [
              "True"
            ]
          },
          "metadata": {},
          "execution_count": 18
        }
      ]
    },
    {
      "cell_type": "code",
      "execution_count": 19,
      "id": "through-symposium",
      "metadata": {
        "id": "through-symposium"
      },
      "outputs": [],
      "source": [
        "stop_words = stopwords.words('english')"
      ]
    },
    {
      "cell_type": "code",
      "source": [
        "print(stop_words)"
      ],
      "metadata": {
        "colab": {
          "base_uri": "https://localhost:8080/"
        },
        "id": "KrDRgouQF2zs",
        "outputId": "ec761ca6-8993-4cf1-e5c6-d92320c7c12b"
      },
      "id": "KrDRgouQF2zs",
      "execution_count": 21,
      "outputs": [
        {
          "output_type": "stream",
          "name": "stdout",
          "text": [
            "['i', 'me', 'my', 'myself', 'we', 'our', 'ours', 'ourselves', 'you', \"you're\", \"you've\", \"you'll\", \"you'd\", 'your', 'yours', 'yourself', 'yourselves', 'he', 'him', 'his', 'himself', 'she', \"she's\", 'her', 'hers', 'herself', 'it', \"it's\", 'its', 'itself', 'they', 'them', 'their', 'theirs', 'themselves', 'what', 'which', 'who', 'whom', 'this', 'that', \"that'll\", 'these', 'those', 'am', 'is', 'are', 'was', 'were', 'be', 'been', 'being', 'have', 'has', 'had', 'having', 'do', 'does', 'did', 'doing', 'a', 'an', 'the', 'and', 'but', 'if', 'or', 'because', 'as', 'until', 'while', 'of', 'at', 'by', 'for', 'with', 'about', 'against', 'between', 'into', 'through', 'during', 'before', 'after', 'above', 'below', 'to', 'from', 'up', 'down', 'in', 'out', 'on', 'off', 'over', 'under', 'again', 'further', 'then', 'once', 'here', 'there', 'when', 'where', 'why', 'how', 'all', 'any', 'both', 'each', 'few', 'more', 'most', 'other', 'some', 'such', 'no', 'nor', 'not', 'only', 'own', 'same', 'so', 'than', 'too', 'very', 's', 't', 'can', 'will', 'just', 'don', \"don't\", 'should', \"should've\", 'now', 'd', 'll', 'm', 'o', 're', 've', 'y', 'ain', 'aren', \"aren't\", 'couldn', \"couldn't\", 'didn', \"didn't\", 'doesn', \"doesn't\", 'hadn', \"hadn't\", 'hasn', \"hasn't\", 'haven', \"haven't\", 'isn', \"isn't\", 'ma', 'mightn', \"mightn't\", 'mustn', \"mustn't\", 'needn', \"needn't\", 'shan', \"shan't\", 'shouldn', \"shouldn't\", 'wasn', \"wasn't\", 'weren', \"weren't\", 'won', \"won't\", 'wouldn', \"wouldn't\"]\n"
          ]
        }
      ]
    },
    {
      "cell_type": "code",
      "source": [
        "from nltk.tokenize import word_tokenize"
      ],
      "metadata": {
        "id": "jo6e-MKDGVLE"
      },
      "id": "jo6e-MKDGVLE",
      "execution_count": 23,
      "outputs": []
    },
    {
      "cell_type": "code",
      "source": [
        "nltk.download('punkt')"
      ],
      "metadata": {
        "colab": {
          "base_uri": "https://localhost:8080/"
        },
        "id": "BqqNiusiGVCU",
        "outputId": "7219db8c-cd2d-4bba-97ff-7e48f9806663"
      },
      "id": "BqqNiusiGVCU",
      "execution_count": 24,
      "outputs": [
        {
          "output_type": "stream",
          "name": "stderr",
          "text": [
            "[nltk_data] Downloading package punkt to /root/nltk_data...\n",
            "[nltk_data]   Unzipping tokenizers/punkt.zip.\n"
          ]
        },
        {
          "output_type": "execute_result",
          "data": {
            "text/plain": [
              "True"
            ]
          },
          "metadata": {},
          "execution_count": 24
        }
      ]
    },
    {
      "cell_type": "code",
      "source": [
        "words = word_tokenize(text)"
      ],
      "metadata": {
        "id": "tL2DmR1eGU00"
      },
      "id": "tL2DmR1eGU00",
      "execution_count": 36,
      "outputs": []
    },
    {
      "cell_type": "code",
      "execution_count": 37,
      "id": "authentic-answer",
      "metadata": {
        "colab": {
          "base_uri": "https://localhost:8080/"
        },
        "id": "authentic-answer",
        "outputId": "cc8a9ee8-ec59-411e-9b53-d4334029faae"
      },
      "outputs": [
        {
          "output_type": "stream",
          "name": "stdout",
          "text": [
            "['Predestination', 'is', 'a', '2014', 'science', 'fiction', 'film', 'that', 'follows', 'a', 'time-traveling', 'agent', ',', 'played', 'by', 'Ethan', 'Hawke', ',', 'who', 'is', 'on', 'a', 'mission', 'to', 'capture', 'a', 'mysterious', 'terrorist', 'known', 'as', 'the', 'Fizzle', 'Bomber', '.', 'During', 'his', 'quest', ',', 'he', 'recruits', 'a', 'young', 'woman', '(', 'Sarah', 'Snook', ')', 'who', 'has', 'a', 'hidden', 'connection', 'to', 'the', 'case', '.', 'As', 'the', 'agent', \"'s\", 'mission', 'unfolds', ',', 'the', 'story', 'reveals', 'complex', 'layers', 'of', 'identity', 'and', 'fate', ',', 'culminating', 'in', 'a', 'series', 'of', 'surprising', 'twists', 'that', 'intertwine', 'their', 'lives', 'in', 'a', 'closed', 'time', 'loop', '.', 'The', 'film', 'delves', 'into', 'themes', 'of', 'predestination', ',', 'self-discovery', ',', 'and', 'the', 'paradoxes', 'inherent', 'in', 'time', 'travel', ',', 'offering', 'a', 'thought-provoking', 'narrative', 'about', 'the', 'nature', 'of', 'destiny', 'and', 'personal', 'choice', '.']\n"
          ]
        }
      ],
      "source": [
        "print(words)"
      ]
    },
    {
      "cell_type": "markdown",
      "id": "functional-checkout",
      "metadata": {
        "id": "functional-checkout"
      },
      "source": [
        "#### Applying stop words"
      ]
    },
    {
      "cell_type": "code",
      "execution_count": 38,
      "id": "piano-graph",
      "metadata": {
        "id": "piano-graph"
      },
      "outputs": [],
      "source": [
        "holder = list()\n",
        "for w in words:\n",
        "    if w not in set(stop_words):\n",
        "        holder.append(w)"
      ]
    },
    {
      "cell_type": "code",
      "source": [
        "# holder = []\n",
        "\n",
        "# for w in words:\n",
        "#   if w not in stop_words:\n",
        "#     holder.append(w)"
      ],
      "metadata": {
        "id": "_qnI9JPXIfUe"
      },
      "id": "_qnI9JPXIfUe",
      "execution_count": null,
      "outputs": []
    },
    {
      "cell_type": "code",
      "execution_count": 39,
      "id": "accompanied-queens",
      "metadata": {
        "colab": {
          "base_uri": "https://localhost:8080/"
        },
        "id": "accompanied-queens",
        "outputId": "82a7713f-9f64-47d5-e15d-c49562a414c5"
      },
      "outputs": [
        {
          "output_type": "stream",
          "name": "stdout",
          "text": [
            "['Predestination', '2014', 'science', 'fiction', 'film', 'follows', 'time-traveling', 'agent', ',', 'played', 'Ethan', 'Hawke', ',', 'mission', 'capture', 'mysterious', 'terrorist', 'known', 'Fizzle', 'Bomber', '.', 'During', 'quest', ',', 'recruits', 'young', 'woman', '(', 'Sarah', 'Snook', ')', 'hidden', 'connection', 'case', '.', 'As', 'agent', \"'s\", 'mission', 'unfolds', ',', 'story', 'reveals', 'complex', 'layers', 'identity', 'fate', ',', 'culminating', 'series', 'surprising', 'twists', 'intertwine', 'lives', 'closed', 'time', 'loop', '.', 'The', 'film', 'delves', 'themes', 'predestination', ',', 'self-discovery', ',', 'paradoxes', 'inherent', 'time', 'travel', ',', 'offering', 'thought-provoking', 'narrative', 'nature', 'destiny', 'personal', 'choice', '.']\n"
          ]
        }
      ],
      "source": [
        "print(holder)"
      ]
    },
    {
      "cell_type": "markdown",
      "id": "digital-henry",
      "metadata": {
        "id": "digital-henry"
      },
      "source": [
        "#### List Comprehension for stop words"
      ]
    },
    {
      "cell_type": "code",
      "execution_count": 42,
      "id": "environmental-cartridge",
      "metadata": {
        "colab": {
          "base_uri": "https://localhost:8080/"
        },
        "id": "environmental-cartridge",
        "outputId": "8af4aefe-8a6a-4ef9-e101-bf90b0568e42"
      },
      "outputs": [
        {
          "output_type": "stream",
          "name": "stdout",
          "text": [
            "['Predestination', '2014', 'science', 'fiction', 'film', 'follows', 'time-traveling', 'agent', ',', 'played', 'Ethan', 'Hawke', ',', 'mission', 'capture', 'mysterious', 'terrorist', 'known', 'Fizzle', 'Bomber', '.', 'During', 'quest', ',', 'recruits', 'young', 'woman', '(', 'Sarah', 'Snook', ')', 'hidden', 'connection', 'case', '.', 'As', 'agent', \"'s\", 'mission', 'unfolds', ',', 'story', 'reveals', 'complex', 'layers', 'identity', 'fate', ',', 'culminating', 'series', 'surprising', 'twists', 'intertwine', 'lives', 'closed', 'time', 'loop', '.', 'The', 'film', 'delves', 'themes', 'predestination', ',', 'self-discovery', ',', 'paradoxes', 'inherent', 'time', 'travel', ',', 'offering', 'thought-provoking', 'narrative', 'nature', 'destiny', 'personal', 'choice', '.']\n"
          ]
        }
      ],
      "source": [
        "holder = [w for w in words if w not in set(stop_words)]\n",
        "print(holder)"
      ]
    },
    {
      "cell_type": "markdown",
      "id": "forty-worth",
      "metadata": {
        "id": "forty-worth"
      },
      "source": [
        "### Stemming"
      ]
    },
    {
      "cell_type": "code",
      "execution_count": 44,
      "id": "related-costs",
      "metadata": {
        "id": "related-costs"
      },
      "outputs": [],
      "source": [
        "from nltk.stem import PorterStemmer, SnowballStemmer, LancasterStemmer"
      ]
    },
    {
      "cell_type": "code",
      "execution_count": 45,
      "id": "unsigned-mobile",
      "metadata": {
        "id": "unsigned-mobile"
      },
      "outputs": [],
      "source": [
        "porter = PorterStemmer()\n",
        "snow = SnowballStemmer(language = 'english')\n",
        "lancaster = LancasterStemmer()"
      ]
    },
    {
      "cell_type": "code",
      "execution_count": 46,
      "id": "ready-inside",
      "metadata": {
        "id": "ready-inside"
      },
      "outputs": [],
      "source": [
        "words = ['play', 'plays', 'played', 'playing', 'player']"
      ]
    },
    {
      "cell_type": "markdown",
      "id": "prostate-commitment",
      "metadata": {
        "id": "prostate-commitment"
      },
      "source": [
        "#### Porter Stemmer"
      ]
    },
    {
      "cell_type": "code",
      "execution_count": 47,
      "id": "involved-cherry",
      "metadata": {
        "id": "involved-cherry"
      },
      "outputs": [],
      "source": [
        "porter_stemmed = list()\n",
        "for w in words:\n",
        "    stemmed_words = porter.stem(w)\n",
        "    porter_stemmed.append(stemmed_words)"
      ]
    },
    {
      "cell_type": "code",
      "execution_count": 48,
      "id": "narrative-auditor",
      "metadata": {
        "colab": {
          "base_uri": "https://localhost:8080/"
        },
        "id": "narrative-auditor",
        "outputId": "e0447f0a-6d9d-47c9-d272-977a7c47ddbd"
      },
      "outputs": [
        {
          "output_type": "execute_result",
          "data": {
            "text/plain": [
              "['play', 'play', 'play', 'play', 'player']"
            ]
          },
          "metadata": {},
          "execution_count": 48
        }
      ],
      "source": [
        "porter_stemmed"
      ]
    },
    {
      "cell_type": "markdown",
      "id": "mobile-giant",
      "metadata": {
        "id": "mobile-giant"
      },
      "source": [
        "#### Porter Stemmer List Comprehension"
      ]
    },
    {
      "cell_type": "code",
      "execution_count": 49,
      "id": "juvenile-assets",
      "metadata": {
        "colab": {
          "base_uri": "https://localhost:8080/"
        },
        "id": "juvenile-assets",
        "outputId": "a61f71fc-57fa-4037-8bcf-877ad87dece0"
      },
      "outputs": [
        {
          "output_type": "stream",
          "name": "stdout",
          "text": [
            "['play', 'play', 'play', 'play', 'player']\n"
          ]
        }
      ],
      "source": [
        "porter_stemmed = [porter.stem(x) for x in words]\n",
        "print (porter_stemmed)"
      ]
    },
    {
      "cell_type": "markdown",
      "id": "japanese-piece",
      "metadata": {
        "id": "japanese-piece"
      },
      "source": [
        "#### Snowball Stemmer"
      ]
    },
    {
      "cell_type": "code",
      "execution_count": 50,
      "id": "skilled-coordinate",
      "metadata": {
        "id": "skilled-coordinate"
      },
      "outputs": [],
      "source": [
        "snow_stemmed = list()\n",
        "for w in words:\n",
        "    stemmed_words = snow.stem(w)\n",
        "    snow_stemmed.append(stemmed_words)"
      ]
    },
    {
      "cell_type": "code",
      "execution_count": 51,
      "id": "compressed-constitution",
      "metadata": {
        "colab": {
          "base_uri": "https://localhost:8080/"
        },
        "id": "compressed-constitution",
        "outputId": "a59a948f-bcf2-404d-a4a8-39c6f378f324"
      },
      "outputs": [
        {
          "output_type": "execute_result",
          "data": {
            "text/plain": [
              "['play', 'play', 'play', 'play', 'player']"
            ]
          },
          "metadata": {},
          "execution_count": 51
        }
      ],
      "source": [
        "snow_stemmed"
      ]
    },
    {
      "cell_type": "markdown",
      "id": "handled-preparation",
      "metadata": {
        "id": "handled-preparation"
      },
      "source": [
        "#### Snowball Stemmer List Comprehension"
      ]
    },
    {
      "cell_type": "code",
      "execution_count": 52,
      "id": "aboriginal-checklist",
      "metadata": {
        "colab": {
          "base_uri": "https://localhost:8080/"
        },
        "id": "aboriginal-checklist",
        "outputId": "82912a7b-eae5-489d-e49a-629d80895fac"
      },
      "outputs": [
        {
          "output_type": "stream",
          "name": "stdout",
          "text": [
            "['play', 'play', 'play', 'play', 'player']\n",
            "['play', 'play', 'play', 'play', 'player']\n"
          ]
        }
      ],
      "source": [
        "snow_stemmed = [snow.stem(x) for x in words]\n",
        "print (snow_stemmed)"
      ]
    },
    {
      "cell_type": "markdown",
      "id": "narrative-graduation",
      "metadata": {
        "id": "narrative-graduation"
      },
      "source": [
        "#### Lancaster Stemmer"
      ]
    },
    {
      "cell_type": "code",
      "execution_count": 54,
      "id": "gorgeous-omega",
      "metadata": {
        "id": "gorgeous-omega"
      },
      "outputs": [],
      "source": [
        "lancaster_stemmed = list()\n",
        "for w in words:\n",
        "    stemmed_words = lancaster.stem(w)\n",
        "    lancaster_stemmed.append(stemmed_words)"
      ]
    },
    {
      "cell_type": "code",
      "execution_count": 55,
      "id": "funded-draft",
      "metadata": {
        "colab": {
          "base_uri": "https://localhost:8080/"
        },
        "id": "funded-draft",
        "outputId": "73b1582f-4fc9-49fa-a6e6-48e02308d40a"
      },
      "outputs": [
        {
          "output_type": "execute_result",
          "data": {
            "text/plain": [
              "['play', 'play', 'play', 'play', 'play']"
            ]
          },
          "metadata": {},
          "execution_count": 55
        }
      ],
      "source": [
        "lancaster_stemmed"
      ]
    },
    {
      "cell_type": "markdown",
      "id": "stupid-jordan",
      "metadata": {
        "id": "stupid-jordan"
      },
      "source": [
        "#### Lancaster Stemmer List Comprehension"
      ]
    },
    {
      "cell_type": "code",
      "execution_count": 56,
      "id": "seven-world",
      "metadata": {
        "colab": {
          "base_uri": "https://localhost:8080/"
        },
        "id": "seven-world",
        "outputId": "2d63ad75-eeb9-47fa-d9ec-deeb1517e8a9"
      },
      "outputs": [
        {
          "output_type": "stream",
          "name": "stdout",
          "text": [
            "['play', 'play', 'play', 'play', 'play']\n"
          ]
        }
      ],
      "source": [
        "lancaster_stemmed = [lancaster.stem(x) for x in words]\n",
        "print (lancaster_stemmed)"
      ]
    },
    {
      "cell_type": "markdown",
      "id": "wanted-wallace",
      "metadata": {
        "id": "wanted-wallace"
      },
      "source": [
        "### Lemmatization : This has a more expansive vocabulary than Stemming"
      ]
    },
    {
      "cell_type": "code",
      "execution_count": 59,
      "id": "coated-sport",
      "metadata": {
        "id": "coated-sport"
      },
      "outputs": [],
      "source": [
        "from nltk.stem import WordNetLemmatizer"
      ]
    },
    {
      "cell_type": "code",
      "source": [
        "nltk.download('wordnet')"
      ],
      "metadata": {
        "colab": {
          "base_uri": "https://localhost:8080/"
        },
        "id": "MGItrfFELo8T",
        "outputId": "2a64b16b-178d-472e-e5ef-dd1e2a5e0af2"
      },
      "id": "MGItrfFELo8T",
      "execution_count": 60,
      "outputs": [
        {
          "output_type": "stream",
          "name": "stderr",
          "text": [
            "[nltk_data] Downloading package wordnet to /root/nltk_data...\n"
          ]
        },
        {
          "output_type": "execute_result",
          "data": {
            "text/plain": [
              "True"
            ]
          },
          "metadata": {},
          "execution_count": 60
        }
      ]
    },
    {
      "cell_type": "code",
      "source": [
        "wordnet = WordNetLemmatizer()"
      ],
      "metadata": {
        "id": "u2sACLolLqAs"
      },
      "id": "u2sACLolLqAs",
      "execution_count": 61,
      "outputs": []
    },
    {
      "cell_type": "code",
      "execution_count": null,
      "id": "impressed-switzerland",
      "metadata": {
        "id": "impressed-switzerland"
      },
      "outputs": [],
      "source": [
        "lemmatized = [wordnet.lemmatize(x) for x in words]"
      ]
    },
    {
      "cell_type": "code",
      "execution_count": 63,
      "id": "removed-company",
      "metadata": {
        "colab": {
          "base_uri": "https://localhost:8080/"
        },
        "id": "removed-company",
        "outputId": "4ff6d01d-b1fb-47c5-ad1c-c6ee3fee2c7b"
      },
      "outputs": [
        {
          "output_type": "execute_result",
          "data": {
            "text/plain": [
              "['play', 'play', 'played', 'playing', 'player']"
            ]
          },
          "metadata": {},
          "execution_count": 63
        }
      ],
      "source": [
        "lemmatized"
      ]
    },
    {
      "cell_type": "code",
      "source": [],
      "metadata": {
        "id": "iNiY30xFLlRz"
      },
      "id": "iNiY30xFLlRz",
      "execution_count": null,
      "outputs": []
    },
    {
      "cell_type": "markdown",
      "source": [
        "# Using Spacy"
      ],
      "metadata": {
        "id": "Jdg33oKYMiOE"
      },
      "id": "Jdg33oKYMiOE"
    },
    {
      "cell_type": "code",
      "source": [
        "import spacy"
      ],
      "metadata": {
        "id": "e59igZZbMnMT"
      },
      "id": "e59igZZbMnMT",
      "execution_count": 64,
      "outputs": []
    },
    {
      "cell_type": "code",
      "source": [
        "nlp = spacy.load(\"en_core_web_sm\")"
      ],
      "metadata": {
        "id": "YYdcuWupMpYz"
      },
      "id": "YYdcuWupMpYz",
      "execution_count": 65,
      "outputs": []
    },
    {
      "cell_type": "code",
      "source": [
        "text"
      ],
      "metadata": {
        "colab": {
          "base_uri": "https://localhost:8080/",
          "height": 105
        },
        "id": "Ams-iqgrMwij",
        "outputId": "178272d5-ab7f-4410-e3ec-18fa594b855e"
      },
      "id": "Ams-iqgrMwij",
      "execution_count": 66,
      "outputs": [
        {
          "output_type": "execute_result",
          "data": {
            "text/plain": [
              "\"Predestination is a 2014 science fiction film that follows a time-traveling agent, played by Ethan Hawke, who is on a mission to capture a mysterious terrorist known as the Fizzle Bomber. During his quest, he recruits a young woman (Sarah Snook) who has a hidden connection to the case. As the agent's mission unfolds, the story reveals complex layers of identity and fate, culminating in a series of surprising twists that intertwine their lives in a closed time loop. The film delves into themes of predestination, self-discovery, and the paradoxes inherent in time travel, offering a thought-provoking narrative about the nature of destiny and personal choice.\""
            ],
            "application/vnd.google.colaboratory.intrinsic+json": {
              "type": "string"
            }
          },
          "metadata": {},
          "execution_count": 66
        }
      ]
    },
    {
      "cell_type": "code",
      "source": [
        "doc = nlp(text)"
      ],
      "metadata": {
        "id": "nvV0Yau9MzoS"
      },
      "id": "nvV0Yau9MzoS",
      "execution_count": 67,
      "outputs": []
    },
    {
      "cell_type": "code",
      "source": [
        "result = []\n",
        "\n",
        "for token in doc:\n",
        "  if not token.is_stop and not token.is_punct:\n",
        "    result.append(token.text)"
      ],
      "metadata": {
        "id": "kLCAa1F7M2Da"
      },
      "id": "kLCAa1F7M2Da",
      "execution_count": 74,
      "outputs": []
    },
    {
      "cell_type": "code",
      "source": [
        "print(result)"
      ],
      "metadata": {
        "colab": {
          "base_uri": "https://localhost:8080/"
        },
        "id": "zzImi8FVNTMt",
        "outputId": "ee78db23-456d-44a6-c91a-ae22258db4bc"
      },
      "id": "zzImi8FVNTMt",
      "execution_count": 75,
      "outputs": [
        {
          "output_type": "stream",
          "name": "stdout",
          "text": [
            "['Predestination', '2014', 'science', 'fiction', 'film', 'follows', 'time', 'traveling', 'agent', 'played', 'Ethan', 'Hawke', 'mission', 'capture', 'mysterious', 'terrorist', 'known', 'Fizzle', 'Bomber', 'quest', 'recruits', 'young', 'woman', 'Sarah', 'Snook', 'hidden', 'connection', 'case', 'agent', 'mission', 'unfolds', 'story', 'reveals', 'complex', 'layers', 'identity', 'fate', 'culminating', 'series', 'surprising', 'twists', 'intertwine', 'lives', 'closed', 'time', 'loop', 'film', 'delves', 'themes', 'predestination', 'self', 'discovery', 'paradoxes', 'inherent', 'time', 'travel', 'offering', 'thought', 'provoking', 'narrative', 'nature', 'destiny', 'personal', 'choice']\n"
          ]
        }
      ]
    },
    {
      "cell_type": "code",
      "source": [],
      "metadata": {
        "id": "d_70fY98NeTN"
      },
      "id": "d_70fY98NeTN",
      "execution_count": null,
      "outputs": []
    },
    {
      "cell_type": "markdown",
      "source": [
        "# Lemmatization using Spacy"
      ],
      "metadata": {
        "id": "uyH_ekV9N9YL"
      },
      "id": "uyH_ekV9N9YL"
    },
    {
      "cell_type": "code",
      "source": [
        "dummy = ['play', 'plays', 'played', 'playing', 'player']"
      ],
      "metadata": {
        "id": "9TcpSZtPN8BS"
      },
      "id": "9TcpSZtPN8BS",
      "execution_count": 77,
      "outputs": []
    },
    {
      "cell_type": "code",
      "source": [
        "lemmatized_words = [nlp(word)[0].lemma_ for word in dummy]"
      ],
      "metadata": {
        "id": "slrg4L50OCBC"
      },
      "id": "slrg4L50OCBC",
      "execution_count": 79,
      "outputs": []
    },
    {
      "cell_type": "code",
      "source": [
        "lemmatized_words"
      ],
      "metadata": {
        "colab": {
          "base_uri": "https://localhost:8080/"
        },
        "id": "CxkCML4oOMZy",
        "outputId": "ec2cc88a-df48-4d05-a929-8f5920e05827"
      },
      "id": "CxkCML4oOMZy",
      "execution_count": 80,
      "outputs": [
        {
          "output_type": "execute_result",
          "data": {
            "text/plain": [
              "['play', 'play', 'play', 'play', 'player']"
            ]
          },
          "metadata": {},
          "execution_count": 80
        }
      ]
    },
    {
      "cell_type": "code",
      "source": [],
      "metadata": {
        "id": "53kS5P0fPZQC"
      },
      "id": "53kS5P0fPZQC",
      "execution_count": null,
      "outputs": []
    }
  ],
  "metadata": {
    "kernelspec": {
      "display_name": "Python 3",
      "language": "python",
      "name": "python3"
    },
    "language_info": {
      "codemirror_mode": {
        "name": "ipython",
        "version": 3
      },
      "file_extension": ".py",
      "mimetype": "text/x-python",
      "name": "python",
      "nbconvert_exporter": "python",
      "pygments_lexer": "ipython3",
      "version": "3.7.0"
    },
    "colab": {
      "provenance": [],
      "toc_visible": true
    }
  },
  "nbformat": 4,
  "nbformat_minor": 5
}