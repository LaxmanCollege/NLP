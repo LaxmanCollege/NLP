{
  "cells": [
    {
      "cell_type": "code",
      "execution_count": 1,
      "id": "exciting-identity",
      "metadata": {
        "colab": {
          "base_uri": "https://localhost:8080/"
        },
        "id": "exciting-identity",
        "outputId": "b37b28ea-cf61-4a02-8946-aadd1a553c20"
      },
      "outputs": [
        {
          "output_type": "stream",
          "name": "stderr",
          "text": [
            "[nltk_data] Downloading package punkt to /root/nltk_data...\n",
            "[nltk_data]   Unzipping tokenizers/punkt.zip.\n",
            "[nltk_data] Downloading package averaged_perceptron_tagger to\n",
            "[nltk_data]     /root/nltk_data...\n",
            "[nltk_data]   Unzipping taggers/averaged_perceptron_tagger.zip.\n"
          ]
        },
        {
          "output_type": "execute_result",
          "data": {
            "text/plain": [
              "True"
            ]
          },
          "metadata": {},
          "execution_count": 1
        }
      ],
      "source": [
        "import nltk\n",
        "nltk.download('punkt')\n",
        "nltk.download('averaged_perceptron_tagger')"
      ]
    },
    {
      "cell_type": "code",
      "execution_count": 2,
      "id": "parliamentary-alpha",
      "metadata": {
        "id": "parliamentary-alpha"
      },
      "outputs": [],
      "source": [
        "from nltk.chunk import RegexpParser\n",
        "from nltk.tokenize import word_tokenize"
      ]
    },
    {
      "cell_type": "code",
      "execution_count": 3,
      "id": "subject-coordinator",
      "metadata": {
        "id": "subject-coordinator"
      },
      "outputs": [],
      "source": [
        "sentence = \"Educative Answers is a free web encyclopedia written by devs for devs.\""
      ]
    },
    {
      "cell_type": "markdown",
      "id": "featured-pennsylvania",
      "metadata": {
        "id": "featured-pennsylvania"
      },
      "source": [
        "### Tokenization"
      ]
    },
    {
      "cell_type": "code",
      "execution_count": 4,
      "id": "massive-deposit",
      "metadata": {
        "id": "massive-deposit"
      },
      "outputs": [],
      "source": [
        "tokens = word_tokenize(sentence)"
      ]
    },
    {
      "cell_type": "code",
      "execution_count": 5,
      "id": "curious-coaching",
      "metadata": {
        "colab": {
          "base_uri": "https://localhost:8080/"
        },
        "id": "curious-coaching",
        "outputId": "f7e24e65-dd15-4f65-dc98-0028744f55b8"
      },
      "outputs": [
        {
          "output_type": "execute_result",
          "data": {
            "text/plain": [
              "['Educative',\n",
              " 'Answers',\n",
              " 'is',\n",
              " 'a',\n",
              " 'free',\n",
              " 'web',\n",
              " 'encyclopedia',\n",
              " 'written',\n",
              " 'by',\n",
              " 'devs',\n",
              " 'for',\n",
              " 'devs',\n",
              " '.']"
            ]
          },
          "metadata": {},
          "execution_count": 5
        }
      ],
      "source": [
        "tokens"
      ]
    },
    {
      "cell_type": "markdown",
      "id": "possible-strengthening",
      "metadata": {
        "id": "possible-strengthening"
      },
      "source": [
        "### POS tagging"
      ]
    },
    {
      "cell_type": "code",
      "execution_count": 6,
      "id": "liberal-convenience",
      "metadata": {
        "id": "liberal-convenience"
      },
      "outputs": [],
      "source": [
        "pos_tags = nltk.pos_tag(tokens)"
      ]
    },
    {
      "cell_type": "code",
      "execution_count": 7,
      "id": "unavailable-northeast",
      "metadata": {
        "colab": {
          "base_uri": "https://localhost:8080/"
        },
        "id": "unavailable-northeast",
        "outputId": "02ca4175-44db-492c-f463-fdda038ae6aa"
      },
      "outputs": [
        {
          "output_type": "execute_result",
          "data": {
            "text/plain": [
              "[('Educative', 'JJ'),\n",
              " ('Answers', 'NNPS'),\n",
              " ('is', 'VBZ'),\n",
              " ('a', 'DT'),\n",
              " ('free', 'JJ'),\n",
              " ('web', 'NN'),\n",
              " ('encyclopedia', 'NN'),\n",
              " ('written', 'VBN'),\n",
              " ('by', 'IN'),\n",
              " ('devs', 'NN'),\n",
              " ('for', 'IN'),\n",
              " ('devs', 'NN'),\n",
              " ('.', '.')]"
            ]
          },
          "metadata": {},
          "execution_count": 7
        }
      ],
      "source": [
        "pos_tags"
      ]
    },
    {
      "cell_type": "markdown",
      "id": "sitting-pencil",
      "metadata": {
        "id": "sitting-pencil"
      },
      "source": [
        "### Chunking patterns"
      ]
    },
    {
      "cell_type": "code",
      "execution_count": 8,
      "id": "surrounded-straight",
      "metadata": {
        "id": "surrounded-straight"
      },
      "outputs": [],
      "source": [
        "chunk_patterns = r\"\"\"\n",
        "    NP: {<DT>?<JJ>*<NN>}  # Chunk noun phrases\n",
        "    VP: {<VB.*><NP|PP>}  # Chunk verb phrases\n",
        "\"\"\""
      ]
    },
    {
      "cell_type": "code",
      "execution_count": 9,
      "id": "abstract-banks",
      "metadata": {
        "colab": {
          "base_uri": "https://localhost:8080/",
          "height": 35
        },
        "id": "abstract-banks",
        "outputId": "5b293f98-bb6f-45bf-8335-3949adb71e19"
      },
      "outputs": [
        {
          "output_type": "execute_result",
          "data": {
            "text/plain": [
              "'\\n    NP: {<DT>?<JJ>*<NN>}  # Chunk noun phrases\\n    VP: {<VB.*><NP|PP>}  # Chunk verb phrases\\n'"
            ],
            "application/vnd.google.colaboratory.intrinsic+json": {
              "type": "string"
            }
          },
          "metadata": {},
          "execution_count": 9
        }
      ],
      "source": [
        "chunk_patterns"
      ]
    },
    {
      "cell_type": "markdown",
      "id": "banner-reset",
      "metadata": {
        "id": "banner-reset"
      },
      "source": [
        "### Create a chunk parser"
      ]
    },
    {
      "cell_type": "code",
      "execution_count": 10,
      "id": "intended-connectivity",
      "metadata": {
        "id": "intended-connectivity"
      },
      "outputs": [],
      "source": [
        "chunk_parser = RegexpParser(chunk_patterns)"
      ]
    },
    {
      "cell_type": "code",
      "execution_count": 11,
      "id": "soviet-difference",
      "metadata": {
        "colab": {
          "base_uri": "https://localhost:8080/"
        },
        "id": "soviet-difference",
        "outputId": "8659055e-cf83-48dc-b718-6f0988dddca4"
      },
      "outputs": [
        {
          "output_type": "execute_result",
          "data": {
            "text/plain": [
              "<chunk.RegexpParser with 2 stages>"
            ]
          },
          "metadata": {},
          "execution_count": 11
        }
      ],
      "source": [
        "chunk_parser"
      ]
    },
    {
      "cell_type": "markdown",
      "id": "existing-placement",
      "metadata": {
        "id": "existing-placement"
      },
      "source": [
        "### Perform chunking"
      ]
    },
    {
      "cell_type": "code",
      "execution_count": 12,
      "id": "exclusive-manor",
      "metadata": {
        "id": "exclusive-manor"
      },
      "outputs": [],
      "source": [
        "result = chunk_parser.parse(pos_tags)"
      ]
    },
    {
      "cell_type": "code",
      "execution_count": 13,
      "id": "figured-compromise",
      "metadata": {
        "colab": {
          "base_uri": "https://localhost:8080/"
        },
        "id": "figured-compromise",
        "outputId": "137ec784-2a5e-426d-bdc3-a54774cd6999"
      },
      "outputs": [
        {
          "output_type": "stream",
          "name": "stdout",
          "text": [
            "(S\n",
            "  Educative/JJ\n",
            "  Answers/NNPS\n",
            "  (VP is/VBZ (NP a/DT free/JJ web/NN))\n",
            "  (NP encyclopedia/NN)\n",
            "  written/VBN\n",
            "  by/IN\n",
            "  (NP devs/NN)\n",
            "  for/IN\n",
            "  (NP devs/NN)\n",
            "  ./.)\n"
          ]
        }
      ],
      "source": [
        "print(result)"
      ]
    },
    {
      "cell_type": "code",
      "source": [],
      "metadata": {
        "id": "u_0LLYiTQMhg"
      },
      "id": "u_0LLYiTQMhg",
      "execution_count": null,
      "outputs": []
    }
  ],
  "metadata": {
    "kernelspec": {
      "display_name": "Python 3 (ipykernel)",
      "language": "python",
      "name": "python3"
    },
    "language_info": {
      "codemirror_mode": {
        "name": "ipython",
        "version": 3
      },
      "file_extension": ".py",
      "mimetype": "text/x-python",
      "name": "python",
      "nbconvert_exporter": "python",
      "pygments_lexer": "ipython3",
      "version": "3.11.5"
    },
    "colab": {
      "provenance": [],
      "toc_visible": true
    }
  },
  "nbformat": 4,
  "nbformat_minor": 5
}